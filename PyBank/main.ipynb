{
 "cells": [
  {
   "cell_type": "code",
   "execution_count": 22,
   "metadata": {},
   "outputs": [
    {
     "name": "stdout",
     "output_type": "stream",
     "text": [
      "Financial Anaylsis\n",
      "------------------------\n",
      "Total Months: 86\n",
      "Total: $38382578\n",
      "Average Change: $446309.0465116279\n",
      "Greatest Increase in Profits: ($1170593)\n",
      "Greatest Decrease in Profits: ($-1196225)\n"
     ]
    }
   ],
   "source": [
    "import pandas as pd\n",
    "\n",
    "#locating file path and opening file\n",
    "budget_file = \"./resources/budget_data.csv\" \n",
    "budget_file_pd = pd.read_csv(budget_file)\n",
    "\n",
    "\n",
    "header = \"Financial Anaylsis\"\n",
    "line = \"------------------------\"\n",
    "\n",
    "#descriptive dataset analysis to determine profits/losses over accoutning period\n",
    "months = budget_file_pd[\"Date\"].count()\n",
    "total = budget_file_pd[\"Profit/Losses\"].sum()   \n",
    "average = budget_file_pd[\"Profit/Losses\"].mean()\n",
    "maxprofit = budget_file_pd[\"Profit/Losses\"].max()\n",
    "maxloss = budget_file_pd[\"Profit/Losses\"].min()\n",
    "\n",
    "print(header)\n",
    "print(line)\n",
    "print(f'Total Months: {months}')\n",
    "print(f'Total: ${total}')\n",
    "print(f'Average Change: ${average}')\n",
    "print(f'Greatest Increase in Profits: (${maxprofit})')\n",
    "print(f'Greatest Decrease in Profits: (${maxloss})')\n",
    "\n",
    "#conversion into dfs for analysis and revision\n",
    "budget_file_pd['Total Months'] = months\n",
    "budget_file_pd['Total'] = total\n",
    "budget_file_pd['Average Change'] = average\n",
    "budget_file_pd['Increase in Profits'] = maxprofit\n",
    "budget_file_pd['Greatest Decrease in Profits'] = maxloss\n",
    "\n",
    "#file output\n",
    "budget_file_pd\n",
    "budget_file_pd[1:2].to_csv(\"budget_summary_output\", header=True, index=False, float_format='%.2f', columns=['Total Months', 'Total', 'Average Change', 'Increase in Profits', 'Greatest Decrease in Profits']) \n"
   ]
  },
  {
   "cell_type": "code",
   "execution_count": null,
   "metadata": {},
   "outputs": [],
   "source": []
  }
 ],
 "metadata": {
  "kernelspec": {
   "display_name": "Python 3",
   "language": "python",
   "name": "python3"
  },
  "language_info": {
   "codemirror_mode": {
    "name": "ipython",
    "version": 3
   },
   "file_extension": ".py",
   "mimetype": "text/x-python",
   "name": "python",
   "nbconvert_exporter": "python",
   "pygments_lexer": "ipython3",
   "version": "3.7.6"
  }
 },
 "nbformat": 4,
 "nbformat_minor": 4
}
