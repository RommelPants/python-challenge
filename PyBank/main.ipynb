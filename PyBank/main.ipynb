{
 "cells": [
  {
   "cell_type": "code",
   "execution_count": 115,
   "metadata": {},
   "outputs": [
    {
     "name": "stdout",
     "output_type": "stream",
     "text": [
      "Financial Analysis\n",
      "-------------------------\n",
      "Total Months: 86\n",
      "Total: $38382578\n",
      "Average Change: $-2315.1176470588234\n",
      "Greatest Increase in Profits: Feb-2012 ($1926159.0)\n",
      "Greatest Decrease in Profits: Sep-2013 ($-2196167.0)\n"
     ]
    }
   ],
   "source": [
    "import pandas as pd\n",
    "\n",
    "#locating file path and opening file\n",
    "budget_file = \"./resources/budget_data.csv\" \n",
    "budget_file_pd = pd.read_csv(budget_file)\n",
    "\n",
    "budget_file_pd['Change'] = budget_file_pd['Profit/Losses'].shift(-1) - budget_file_pd['Profit/Losses']\n",
    "\n",
    "budget_file_pd['Change'] = budget_file_pd['Change'].shift(1)\n",
    "\n",
    "budget_file_pd\n",
    "budget_file_pd.to_csv(\"./resources/budget_data.csv\", header=True, index=False)\n",
    "\n",
    "#descriptive dataset analysis to determine profits/losses over accoutning period\n",
    "months = str(budget_file_pd[\"Date\"].count())\n",
    "budget_file_pd.set_index('Date', inplace = True)\n",
    "total = str(budget_file_pd[\"Profit/Losses\"].sum())   \n",
    "average = str(budget_file_pd[\"Change\"].mean())\n",
    "maxprofit_month = str(budget_file_pd[\"Change\"].idxmax())\n",
    "maxprofit_amount = str(budget_file_pd[\"Change\"].max())\n",
    "maxloss_month = str(budget_file_pd[\"Change\"].idxmin())\n",
    "maxloss_amount = str(budget_file_pd[\"Change\"].min())\n",
    "\n",
    "#print to terminal\n",
    "print('Financial Analysis')\n",
    "print('-------------------------')\n",
    "print(f'Total Months: ' + months)\n",
    "print(f'Total: $' + total)\n",
    "print(f'Average Change: $' + average)\n",
    "print(f'Greatest Increase in Profits: ' + maxprofit_month + ' ($' + maxprofit_amount + ')')\n",
    "print(f'Greatest Decrease in Profits: ' + maxloss_month + ' ($' + maxloss_amount + ')')\n",
    "\n",
    "\n",
    "# Print summary to output text file\n",
    "# Passing the 'w' argument here to\n",
    "# overwrite any previously saved content\n",
    "print('Financial Analysis', file = open('./analysis/output.txt', 'w'))\n",
    "print('-------------------------', file = open('./analysis/output.txt', 'a'))\n",
    "print(f'Total Months: ' + months, file = open('./analysis/output.txt', 'a'))\n",
    "print(f'Total: $' + total, file = open('./analysis/output.txt', 'a'))\n",
    "print(f'Average Change: $' + average, file = open('./analysis/output.txt', 'a'))\n",
    "print(f'Greatest Increase in Profits: ' + maxprofit_month + ' ($' + maxprofit_amount + ')', file = open('./analysis/output.txt', 'a'))\n",
    "print(f'Greatest Decrease in Profits: ' + maxloss_month + ' ($' + maxloss_amount + ')' , file = open('./analysis/output.txt', 'a'))\n",
    "\n",
    "\n"
   ]
  },
  {
   "cell_type": "code",
   "execution_count": null,
   "metadata": {},
   "outputs": [],
   "source": []
  }
 ],
 "metadata": {
  "kernelspec": {
   "display_name": "Python 3",
   "language": "python",
   "name": "python3"
  },
  "language_info": {
   "codemirror_mode": {
    "name": "ipython",
    "version": 3
   },
   "file_extension": ".py",
   "mimetype": "text/x-python",
   "name": "python",
   "nbconvert_exporter": "python",
   "pygments_lexer": "ipython3",
   "version": "3.7.6"
  }
 },
 "nbformat": 4,
 "nbformat_minor": 4
}
