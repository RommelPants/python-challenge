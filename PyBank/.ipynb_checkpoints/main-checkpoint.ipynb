{
 "cells": [
  {
   "cell_type": "code",
   "execution_count": null,
   "metadata": {},
   "outputs": [],
   "source": [
    "import pandas as pd\n",
    "    \n",
    "budget_file = \"./resources/budget_data.csv\" \n",
    "budget_file_pd = pd.read_csv(budget_file)\n",
    "limit = 2\n",
    "pd.set_option('display.max_rows',limit)\n",
    "\n",
    "\n",
    "header = \"Financial Anaylsis\"\n",
    "line = \"------------------------\"\n",
    "\n",
    "print(header)\n",
    "print(line)\n",
    "\n",
    "months = budget_file_pd[\"Date\"].count()\n",
    "print(f'Total Months: {months}')\n",
    "\n",
    "total = budget_file_pd[\"Profit/Losses\"].sum()\n",
    "print(f'Total: ${total}')\n",
    "        \n",
    "average = budget_file_pd[\"Profit/Losses\"].mean()\n",
    "print(f'Average Change: ${average}')\n",
    "\n",
    "maxprofit = budget_file_pd[\"Profit/Losses\"].max()\n",
    "print(f'Greatest Increase in Profits: (${maxprofit})')\n",
    "\n",
    "maxloss = budget_file_pd[\"Profit/Losses\"].min()\n",
    "print(f'Greatest Decrease in Profits: (${maxloss})')\n",
    "\n",
    "budget_file_pd['Total Months'] = months\n",
    "budget_file_pd['Total'] = total\n",
    "budget_file_pd['Average Change'] = average\n",
    "budget_file_pd['Increase in Profits'] = maxprofit\n",
    "budget_file_pd['Greatest Decrease in Profits'] = maxloss\n",
    "\n",
    "budget_file_pd\n",
    "budget_file_pd[1:2].to_csv(\"budget_summary_output\", header=True, index=False, float_format='%.2f', columns=['Total Months', 'Total', 'Average Change', 'Increase in Profits', 'Greatest Decrease in Profits']) \n"
   ]
  },
  {
   "cell_type": "code",
   "execution_count": null,
   "metadata": {},
   "outputs": [],
   "source": []
  }
 ],
 "metadata": {
  "kernelspec": {
   "display_name": "Python 3",
   "language": "python",
   "name": "python3"
  },
  "language_info": {
   "codemirror_mode": {
    "name": "ipython",
    "version": 3
   },
   "file_extension": ".py",
   "mimetype": "text/x-python",
   "name": "python",
   "nbconvert_exporter": "python",
   "pygments_lexer": "ipython3",
   "version": "3.7.6"
  }
 },
 "nbformat": 4,
 "nbformat_minor": 4
}
