{
 "cells": [
  {
   "cell_type": "code",
   "execution_count": 6,
   "metadata": {},
   "outputs": [
    {
     "name": "stdout",
     "output_type": "stream",
     "text": [
      "Election Results\n",
      "-------------------------\n",
      "Khan: 63.094% (661583)\n",
      "\n",
      "Correy: 19.936% (209046)\n",
      "\n",
      "Li: 13.958% (146360)\n",
      "\n",
      "O'Tooley: 3.012% (31586)\n",
      "\n",
      "-------------------------\n",
      "Winner: Khan\n",
      "-------------------------\n"
     ]
    }
   ],
   "source": [
    "import pandas as pd\n",
    "\n",
    "#locating file path and opening file\n",
    "poll_file = \"./Resources/election_data.csv\" \n",
    "poll_file_pd = pd.read_csv(poll_file)\n",
    "\n",
    "header = \"Election Results\"\n",
    "line = \"------------------------\"\n",
    "\n",
    "total_votes = str(poll_file_pd[\"Voter ID\"].count())\n",
    "candidate_vote_counts =  poll_file_pd[\"Candidate\"].value_counts()  \n",
    "winner = str(poll_file_pd.groupby('Candidate')['Voter ID'].count().to_frame().idxmax()[0])\n",
    "\n",
    "# Create list of candidate names\n",
    "candidates_names = []\n",
    "for name in poll_file_pd.Candidate.unique():\n",
    "    candidates_names.append(name)\n",
    "    \n",
    "# Creates a list of vote counts by candidate \n",
    "vote_counts = []\n",
    "for count in candidate_vote_counts:\n",
    "    vote_counts.append(count)\n",
    "\n",
    "# Create list of vote percentage by candidate \n",
    "vote_percentage = []\n",
    "for count in candidate_vote_counts:\n",
    "    vote_percentage.append(float(count) / int(total_votes) * 100)\n",
    "\n",
    "# Zip lists together, iterate through each row,\n",
    "# and print each line of our analysis (minus a few things)\n",
    "\n",
    "print('Election Results')\n",
    "print('-------------------------')\n",
    "for row in zip(candidates_names, vote_counts, vote_percentage):\n",
    "    print(f'{row[0]}: {row[2]:.3f}% ({row[1]})\\n')\n",
    "print('-------------------------')\n",
    "print(f'Winner: ' + winner)\n",
    "print('-------------------------')\n",
    "\n",
    "# Print summary to output text file\n",
    "# Passing the 'w' argument here to\n",
    "# overwrite any previously saved content\n",
    "print('Election Results', file = open('./analysis/output.txt', 'w'))\n",
    "print('-------------------------', file = open('./analysis/output.txt', 'a'))\n",
    "print(f'Total Votes: ' + total_votes, file = open('./analysis/output.txt', 'a'))\n",
    "print('-------------------------\\n', file = open('./analysis/output.txt', 'a'))\n",
    "for row in zip(candidates_names, vote_counts, vote_percentage):\n",
    "    print(f'{row[0]}: {row[2]:.3f}% ({row[1]})\\n', file = open('./analysis/output.txt', 'a'))\n",
    "print('-------------------------', file = open('./analysis/output.txt', 'a'))\n",
    "print(f'Winner: ' + winner, file = open('./analysis/output.txt', 'a'))\n",
    "print('-------------------------', file = open('./analysis/output.txt', 'a'))"
   ]
  },
  {
   "cell_type": "code",
   "execution_count": null,
   "metadata": {},
   "outputs": [],
   "source": []
  }
 ],
 "metadata": {
  "kernelspec": {
   "display_name": "Python 3",
   "language": "python",
   "name": "python3"
  },
  "language_info": {
   "codemirror_mode": {
    "name": "ipython",
    "version": 3
   },
   "file_extension": ".py",
   "mimetype": "text/x-python",
   "name": "python",
   "nbconvert_exporter": "python",
   "pygments_lexer": "ipython3",
   "version": "3.7.6"
  }
 },
 "nbformat": 4,
 "nbformat_minor": 4
}
