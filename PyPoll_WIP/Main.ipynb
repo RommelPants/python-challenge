{
 "cells": [
  {
   "cell_type": "code",
   "execution_count": 37,
   "metadata": {},
   "outputs": [
    {
     "name": "stdout",
     "output_type": "stream",
     "text": [
      "Election Results\n",
      "------------------------\n",
      "(Khan        63.1%\n",
      "Correy      19.9%\n",
      "Li          14.0%\n",
      "O'Tooley     3.0%\n",
      "Name: Candidate, dtype: object, Khan        661583\n",
      "Correy      209046\n",
      "Li          146360\n",
      "O'Tooley     31586\n",
      "Name: Candidate, dtype: int64): (1048575)\n",
      "\n",
      " Winner: Khan    661583\n",
      "Name: Candidate, dtype: int64\n"
     ]
    }
   ],
   "source": [
    "import pandas as pd\n",
    "\n",
    "#locating file path and opening file\n",
    "poll_file = \"./Resources/election_data.csv\" \n",
    "poll_file_pd = pd.read_csv(poll_file)\n",
    "\n",
    "\n",
    "\n",
    "header = \"Election Results\"\n",
    "line = \"------------------------\"\n",
    "\n",
    "votes = poll_file_pd[\"Voter ID\"].count()\n",
    "candidates =  poll_file_pd[\"Candidate\"].value_counts()  \n",
    "winpercentage = poll_file_pd[\"Candidate\"].value_counts(normalize=True).mul(100).round(1).astype(str) + '%' \n",
    "winrar = poll_file_pd[\"Candidate\"].value_counts()[:1] \n",
    "\n",
    "voter_output = f\"{winpercentage,candidates}: ({votes})\\n\"\n",
    "\n",
    "print(header)\n",
    "print(line)\n",
    "\n",
    "print(voter_output)\n",
    "print(f' Winner: {winrar}')\n",
    "\n",
    "\n",
    "#conversion into dfs for analysis and revision\n",
    "#poll_file_pd['Total Votes'] = votes\n",
    "#poll_file_pd['Candidate Vote Totals'] = candidates\n",
    "#poll_file_pd['Percent of Vote'] = winpercentage\n",
    "#poll_file_pd['Winner'] = winrar\n",
    "\n",
    "#file output"
   ]
  },
  {
   "cell_type": "code",
   "execution_count": null,
   "metadata": {},
   "outputs": [],
   "source": []
  }
 ],
 "metadata": {
  "kernelspec": {
   "display_name": "Python 3",
   "language": "python",
   "name": "python3"
  },
  "language_info": {
   "codemirror_mode": {
    "name": "ipython",
    "version": 3
   },
   "file_extension": ".py",
   "mimetype": "text/x-python",
   "name": "python",
   "nbconvert_exporter": "python",
   "pygments_lexer": "ipython3",
   "version": "3.7.6"
  }
 },
 "nbformat": 4,
 "nbformat_minor": 4
}
